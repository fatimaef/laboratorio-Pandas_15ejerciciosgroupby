{
 "cells": [
  {
   "cell_type": "markdown",
   "id": "0e4a0473",
   "metadata": {},
   "source": [
    "<div style=\"text-align: center;\">\n",
    "  <img src=\"https://github.com/Hack-io-Data/Imagenes/blob/main/01-LogosHackio/logo_naranja@4x.png?raw=true\" alt=\"esquema\" />\n",
    "</div>"
   ]
  },
  {
   "cell_type": "markdown",
   "id": "8d36bc20",
   "metadata": {},
   "source": [
    "# Laboratorio Agrupamiento de Datos\n",
    "\n",
    "En este laboratorio usaremos el DataFrame creado en la lección anterior resultado de la unión de los conjuntos de datos compartidos contigo. \n",
    "\n",
    "**Instrucciones:**\n",
    "\n",
    "1. Lee cuidadosamente el enunciado de cada ejercicio.\n",
    "\n",
    "2. Implementa la solución en la celda de código proporcionada.\n",
    "\n",
    "3. Devuelve los resultados siempre en formato de DataFrame"
   ]
  },
  {
   "cell_type": "code",
   "execution_count": 13,
   "id": "6f112f8a",
   "metadata": {},
   "outputs": [
    {
     "name": "stdout",
     "output_type": "stream",
     "text": [
      "<class 'pandas.core.frame.DataFrame'>\n",
      "RangeIndex: 513 entries, 0 to 512\n",
      "Data columns (total 20 columns):\n",
      " #   Column        Non-Null Count  Dtype  \n",
      "---  ------        --------------  -----  \n",
      " 0   Unnamed: 0    513 non-null    int64  \n",
      " 1   show_id       513 non-null    object \n",
      " 2   type          513 non-null    object \n",
      " 3   title         513 non-null    object \n",
      " 4   director      513 non-null    object \n",
      " 5   cast          513 non-null    object \n",
      " 6   country       513 non-null    object \n",
      " 7   date_added    513 non-null    object \n",
      " 8   release_year  513 non-null    int64  \n",
      " 9   rating        513 non-null    object \n",
      " 10  duration      513 non-null    object \n",
      " 11  listed_in     513 non-null    object \n",
      " 12  description   513 non-null    object \n",
      " 13  Title         513 non-null    object \n",
      " 14  Genre         513 non-null    object \n",
      " 15  Premiere      513 non-null    object \n",
      " 16  Runtime       513 non-null    int64  \n",
      " 17  IMDB Score    513 non-null    float64\n",
      " 18  Language      513 non-null    object \n",
      " 19  is_original   513 non-null    bool   \n",
      "dtypes: bool(1), float64(1), int64(3), object(15)\n",
      "memory usage: 76.8+ KB\n"
     ]
    },
    {
     "data": {
      "text/plain": [
       "None"
      ]
     },
     "metadata": {},
     "output_type": "display_data"
    },
    {
     "name": "stdout",
     "output_type": "stream",
     "text": [
      "Index(['Unnamed: 0', 'show_id', 'type', 'title', 'director', 'cast', 'country',\n",
      "       'date_added', 'release_year', 'rating', 'duration', 'listed_in',\n",
      "       'description', 'Title', 'Genre', 'Premiere', 'Runtime', 'IMDB Score',\n",
      "       'Language', 'is_original'],\n",
      "      dtype='object')\n"
     ]
    }
   ],
   "source": [
    "import pandas as pd\n",
    "\n",
    "netflix_producciones = pd.read_csv(r'C:\\Users\\fatim\\Hackio\\Laboratorios\\Pandaslab\\laboratorio-Pandas-15ejerciciosgroupby\\laboratorio-Pandas_15ejerciciosgroupby\\data.netflix.csv')\n",
    "\n",
    "display(netflix_producciones.info())\n",
    "print(netflix_producciones.columns)\n",
    "\n"
   ]
  },
  {
   "cell_type": "markdown",
   "id": "cb06a7b4",
   "metadata": {},
   "source": [
    "#### Ejercicio 1: ¿Cuántos títulos hay por cada tipo de contenido ('Movie' o 'TV Show')?"
   ]
  },
  {
   "cell_type": "code",
   "execution_count": 4,
   "id": "60cb155f",
   "metadata": {},
   "outputs": [
    {
     "data": {
      "text/plain": [
       "type\n",
       "Movie      337\n",
       "TV Show    176\n",
       "Name: count, dtype: int64"
      ]
     },
     "metadata": {},
     "output_type": "display_data"
    }
   ],
   "source": [
    "type_counts = netflix_producciones['type'].value_counts()\n",
    "\n",
    "display(type_counts)"
   ]
  },
  {
   "cell_type": "markdown",
   "id": "53198c46",
   "metadata": {},
   "source": [
    "*interpretación de resultado*\n",
    "\n",
    "Películas (Movie): 337 títulos.\n",
    "Programas de TV (TV Show): 176 títulos."
   ]
  },
  {
   "cell_type": "markdown",
   "id": "b956d726",
   "metadata": {},
   "source": [
    "#### Ejercicio 2: ¿Cuál es el promedio de puntuación de las películas agrupadas por clasificación de audiencia ('rating')? Interpreta los resultados, ¿hay algo que te llame la atención? Explica por qué. "
   ]
  },
  {
   "cell_type": "code",
   "execution_count": 15,
   "id": "416c0731",
   "metadata": {},
   "outputs": [
    {
     "name": "stdout",
     "output_type": "stream",
     "text": [
      "rating\n",
      "G        5.500000\n",
      "PG       6.033333\n",
      "PG-13    6.179310\n",
      "R        6.326786\n",
      "TV-14    6.326852\n",
      "TV-G     6.418182\n",
      "TV-MA    6.186164\n",
      "TV-PG    5.900000\n",
      "TV-Y     6.200000\n",
      "TV-Y7    6.288571\n",
      "Name: IMDB Score, dtype: float64\n"
     ]
    }
   ],
   "source": [
    "puntuación_rating = netflix_producciones.groupby('rating')['IMDB Score'].mean()\n",
    "print(puntuación_rating)\n"
   ]
  },
  {
   "cell_type": "markdown",
   "id": "a5f1ab86",
   "metadata": {},
   "source": [
    "*interpretación de resultados* \n",
    "Algunas conclusiones interesantes: clasificaciones más restrictivas como R, PG-13, y TV-MA no necesariamente tienen las mejores puntuaciones. Esto puede responder a que estos títulos son más variados en género y calidad.\n",
    "TV-G y TV-Y7 destacan por mantener buenas puntuaciones promedio, a pesar de estar dirigidos a públicos más jóvenes que, en líneas generales, suelen ser más exigentes.\n",
    "\n",
    "*explicación del código*\n",
    "El código agrupa los datos del df netflix_producciones por la columna rating, que representa las clasificaciones de audiencia, y calcula el promedio (usando .mean()) de la puntuación de IMDb (IMDB Score) para cada grupo."
   ]
  },
  {
   "cell_type": "markdown",
   "id": "f236954f",
   "metadata": {},
   "source": [
    "#### Ejercicio 3: ¿Cuántos títulos hay por cada país? Ordena los resultados de mayor a menor"
   ]
  },
  {
   "cell_type": "code",
   "execution_count": null,
   "id": "1d6b8695",
   "metadata": {},
   "outputs": [],
   "source": []
  },
  {
   "cell_type": "markdown",
   "id": "a49712a3",
   "metadata": {},
   "source": [
    "#### Ejercicio 4: ¿Cuál es la calificación promedio en IMDb de los títulos agrupados por tipo ('Movie' o 'TV Show')?"
   ]
  },
  {
   "cell_type": "code",
   "execution_count": null,
   "id": "564e953f",
   "metadata": {},
   "outputs": [],
   "source": []
  },
  {
   "cell_type": "markdown",
   "id": "4eac1036",
   "metadata": {},
   "source": [
    "#### Ejercicio 5: ¿Cuántos títulos se añadieron a Netflix cada año? Para resolver este ejercicio tendrás uqe convertir la columna `date_added` a formato fecha usando el método `pd.to_datetime`. [Aquí](https://pandas.pydata.org/docs/reference/api/pandas.to_datetime.html) tienes la documentación, leeala con detenimiento antes de usar el método. "
   ]
  },
  {
   "cell_type": "code",
   "execution_count": null,
   "id": "304cc8a0",
   "metadata": {},
   "outputs": [],
   "source": []
  },
  {
   "cell_type": "markdown",
   "id": "ddd1d9b9",
   "metadata": {},
   "source": [
    "#### Ejercicio 6: ¿Cuál es el país con más títulos lanzados en el año 2020? Para resolver este ejercicio después del gropuby os puede resultar interesante el método [`idxmax`](https://pandas.pydata.org/docs/reference/api/pandas.DataFrame.idxmax.html)"
   ]
  },
  {
   "cell_type": "code",
   "execution_count": null,
   "id": "0d914739",
   "metadata": {},
   "outputs": [],
   "source": []
  },
  {
   "cell_type": "markdown",
   "id": "b5e05d91",
   "metadata": {},
   "source": [
    "#### Ejercicio 7:¿Cuál es el promedio de puntuación en IMDb de los títulos agrupados por país?"
   ]
  },
  {
   "cell_type": "code",
   "execution_count": null,
   "id": "51c46210",
   "metadata": {},
   "outputs": [],
   "source": []
  },
  {
   "cell_type": "markdown",
   "id": "43634c81",
   "metadata": {},
   "source": [
    "#### Ejercicio 8: ¿Cuántos títulos fueron lanzados en cada año agrupados por tipo ('Movie' o 'TV Show')?"
   ]
  },
  {
   "cell_type": "code",
   "execution_count": null,
   "id": "d14840b1",
   "metadata": {},
   "outputs": [],
   "source": []
  },
  {
   "cell_type": "markdown",
   "id": "4fc8e1d3",
   "metadata": {},
   "source": [
    "#### Ejercicio 9: ¿Cuál es el país con la mayor cantidad de títulos de clasificación 'TV-MA'?"
   ]
  },
  {
   "cell_type": "code",
   "execution_count": null,
   "id": "a9a2d175",
   "metadata": {},
   "outputs": [],
   "source": []
  },
  {
   "cell_type": "markdown",
   "id": "f1121ccd",
   "metadata": {},
   "source": [
    "#### Ejercicio 10. ¿Cuál es el promedio de duración de las películas agrupadas por país?"
   ]
  },
  {
   "cell_type": "code",
   "execution_count": null,
   "id": "06491396",
   "metadata": {},
   "outputs": [],
   "source": []
  },
  {
   "cell_type": "markdown",
   "id": "0f3ee373",
   "metadata": {},
   "source": [
    "#### Ejercicio 11: ¿Cuál es el número total de títulos por país y clasificación de audiencia ('rating')?"
   ]
  },
  {
   "cell_type": "code",
   "execution_count": null,
   "id": "8fe17c56",
   "metadata": {},
   "outputs": [],
   "source": []
  },
  {
   "cell_type": "markdown",
   "id": "e968d41f",
   "metadata": {},
   "source": [
    "#### Ejercicio 12: ¿Cuántos títulos fueron lanzados antes del año 2000 agrupados por país?"
   ]
  },
  {
   "cell_type": "code",
   "execution_count": null,
   "id": "09e77e41",
   "metadata": {},
   "outputs": [],
   "source": []
  },
  {
   "cell_type": "markdown",
   "id": "3feff0de",
   "metadata": {},
   "source": [
    "#### Ejercicio 13: ¿Cuál es la puntuación promedio en IMDb de los títulos lanzados en 2021 agrupados por país?"
   ]
  },
  {
   "cell_type": "code",
   "execution_count": null,
   "id": "06e047e9",
   "metadata": {},
   "outputs": [],
   "source": []
  },
  {
   "cell_type": "markdown",
   "id": "b598a9ee",
   "metadata": {},
   "source": [
    "#### Ejercicio 14: ¿Cuántos títulos fueron dirigidos por cada director? Ordena los resultados de mayor a menor"
   ]
  },
  {
   "cell_type": "code",
   "execution_count": null,
   "id": "a36c5d63",
   "metadata": {},
   "outputs": [],
   "source": []
  },
  {
   "cell_type": "markdown",
   "id": "1471f841",
   "metadata": {},
   "source": [
    "#### Ejercicio 15: ¿Cuál es el lenguaje más frecuente en los títulos lanzados en los últimos 5 años agrupado por país?"
   ]
  },
  {
   "cell_type": "code",
   "execution_count": null,
   "id": "57446c34",
   "metadata": {},
   "outputs": [],
   "source": []
  },
  {
   "cell_type": "code",
   "execution_count": null,
   "id": "15f51fe1",
   "metadata": {},
   "outputs": [],
   "source": []
  }
 ],
 "metadata": {
  "kernelspec": {
   "display_name": "Python (my_env)",
   "language": "python",
   "name": "my_env"
  },
  "language_info": {
   "codemirror_mode": {
    "name": "ipython",
    "version": 3
   },
   "file_extension": ".py",
   "mimetype": "text/x-python",
   "name": "python",
   "nbconvert_exporter": "python",
   "pygments_lexer": "ipython3",
   "version": "3.13.0"
  }
 },
 "nbformat": 4,
 "nbformat_minor": 5
}
